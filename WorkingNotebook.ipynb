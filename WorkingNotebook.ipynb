{
 "cells": [
  {
   "cell_type": "markdown",
   "metadata": {},
   "source": [
    "Introduction: Because Pittsburgh is always called a food city, we decided to base our metric on density of food per Allegheny county zip code. Some other options we explored included sorting dog names by neighborhood, health quality per zip code, and food quality per zip code.\n",
    "\n",
    "Our data sets:\n",
    "https://data.wprdc.org/dataset/allegheny-county-supermarkets-convenience-stores/resource/626357fa-c95d-465f-9a02-3121655b2b78\n",
    "https://data.wprdc.org/dataset/allegheny-county-farmers-markets-locations\n",
    "https://data.wprdc.org/dataset/allegheny-county-restaurant-food-facility-inspection-violations"
   ]
  },
  {
   "cell_type": "code",
   "execution_count": null,
   "metadata": {},
   "outputs": [],
   "source": [
    "import pandas as pd\n",
    "import numpy as np"
   ]
  }
 ],
 "metadata": {
  "kernelspec": {
   "display_name": "Python 3.7",
   "language": "python",
   "name": "python3"
  },
  "language_info": {
   "codemirror_mode": {
    "name": "ipython",
    "version": 3
   },
   "file_extension": ".py",
   "mimetype": "text/x-python",
   "name": "python",
   "nbconvert_exporter": "python",
   "pygments_lexer": "ipython3",
   "version": "3.7.0"
  }
 },
 "nbformat": 4,
 "nbformat_minor": 4
}
