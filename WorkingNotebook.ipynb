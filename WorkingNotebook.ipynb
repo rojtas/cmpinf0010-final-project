{
 "cells": [
  {
   "cell_type": "markdown",
   "metadata": {},
   "source": [
    "## Introduction\n",
    "Because Pittsburgh is always called a food city, we decided to base our metric on density of food per Allegheny county zip code. By \"food\", we mean places that residents can buy food, like supermarkets, convenience stores, restaurants, and farmers markets. Combined, these places will give us a good idea of how much food there actually is per zip code. Some other options we explored included sorting dog names by neighborhood, health quality per zip code, and food quality per zip code.\n",
    "\n",
    "## Metric\n",
    "Our data sets are the following: \n",
    "* [Allegheny County Supermarkets and Convenience Stores](https://data.wprdc.org/dataset/allegheny-county-supermarkets-convenience-stores/resource/626357fa-c95d-465f-9a02-3121655b2b78)\n",
    "* [Allegheny County Farmers Markets](https://data.wprdc.org/dataset/allegheny-county-farmers-markets-locations)\n",
    "* [Allegheny County Restaurant Food Facility Inspections and Locations](https://data.wprdc.org/dataset/allegheny-county-restaurant-food-facility-inspection-violations)\n",
    "\n",
    "Our metric is the amount of food facilities per zip code. We chose this specifically because all three of these data sets have a zip code listing. This makes it easier to combine all three of these datasets into one, as they all have a common column.  "
   ]
  },
  {
   "cell_type": "code",
   "execution_count": 3,
   "metadata": {},
   "outputs": [],
   "source": [
    "import pandas as pd\n",
    "%matplotlib inline"
   ]
  },
  {
   "cell_type": "markdown",
   "metadata": {},
   "source": [
    "\n",
    "Convenience store stuff"
   ]
  },
  {
   "cell_type": "code",
   "execution_count": 11,
   "metadata": {},
   "outputs": [
    {
     "data": {
      "text/plain": [
       "<matplotlib.axes._subplots.AxesSubplot at 0x7fcb48f06358>"
      ]
     },
     "execution_count": 11,
     "metadata": {},
     "output_type": "execute_result"
    },
    {
     "data": {
      "image/png": "[encoded data removed]",
      "text/plain": [
       "<Figure size 432x288 with 1 Axes>"
      ]
     },
     "metadata": {
      "needs_background": "light"
     },
     "output_type": "display_data"
    }
   ],
   "source": [
    "conveniencemarkets = pd.read_csv(\"data-conveniencesupermarkets.csv\")\n",
    "conveniencemarkets.drop(['Client ID', 'Legal Name', 'Start Date', 'Street #', 'Street Name', 'State', 'Lat', 'Lon', 'Accuracy', 'Category'], axis=1, inplace=True)\n",
    "conveniencemarkets.rename(columns={\"Name\": \"name\", \"Zip\": \"zip\"})\n",
    "\n",
    "ccounts = conveniencemarkets.groupby('zip').count()\n",
    "ccounts_temp = ccounts.loc[ccounts['name'] > ccounts['name'].max()/2]\n",
    "ccounts_temp.plot.bar()"
   ]
  },
  {
   "cell_type": "markdown",
   "metadata": {},
   "source": [
    "Restaurant stuff "
   ]
  },
  {
   "cell_type": "code",
   "execution_count": 10,
   "metadata": {},
   "outputs": [
    {
     "data": {
      "text/plain": [
       "<matplotlib.axes._subplots.AxesSubplot at 0x7fcb48f4f860>"
      ]
     },
     "execution_count": 10,
     "metadata": {},
     "output_type": "execute_result"
    },
    {
     "data": {
      "image/png": "[encoded data removed]",
      "text/plain": [
       "<Figure size 432x288 with 1 Axes>"
      ]
     },
     "metadata": {
      "needs_background": "light"
     },
     "output_type": "display_data"
    }
   ],
   "source": [
    "restaurants = pd.read_csv('GeocodedFoodFacilities.csv')\n",
    "restaurants.drop_duplicates(subset = ['facility_name','num'], keep = 'first', inplace = True)\n",
    "\n",
    "restaurants = restaurants.loc[restaurants['description'] != 'Chain Retail/Convenience Store']\n",
    "restaurants = restaurants.loc[restaurants['description'] != 'Retail/Convenience Store']\n",
    "restaurants = restaurants.loc[restaurants['description'] != 'Chain Packaged Food Only']\n",
    "restaurants = restaurants.loc[restaurants['municipal'] != 'Out Of County']\n",
    "\n",
    "restaurants.drop(['id', 'num', 'street', 'city', 'state', 'municipal', 'category_cd', 'description', 'fdo', 'bus_st_date', 'p_code', 'seat_count', 'noroom', 'sq_feet', 'status', 'placard_st', 'x', 'y', 'address'], axis=1, inplace=True)\n",
    "\n",
    "rcounts = restaurants.groupby('zip').count()\n",
    "rcounts_temp = rcounts.loc[rcounts['facility_name'] > rcounts['facility_name'].max()/2]\n",
    "rcounts_temp.plot.bar()"
   ]
  },
  {
   "cell_type": "markdown",
   "metadata": {},
   "source": [
    "Farmers Market Stuff"
   ]
  },
  {
   "cell_type": "code",
   "execution_count": 9,
   "metadata": {},
   "outputs": [
    {
     "data": {
      "text/plain": [
       "<matplotlib.axes._subplots.AxesSubplot at 0x7fcb490bc438>"
      ]
     },
     "execution_count": 9,
     "metadata": {},
     "output_type": "execute_result"
    },
    {
     "data": {
      "image/png": "[encoded data removed]",
      "text/plain": [
       "<Figure size 432x288 with 1 Axes>"
      ]
     },
     "metadata": {
      "needs_background": "light"
     },
     "output_type": "display_data"
    }
   ],
   "source": [
    "farmersmarkets = pd.read_csv('2019_farmers-markets.csv')\n",
    "farmersmarkets.drop(['Street_Address', 'City', 'State', 'Latitude', 'Longitude', 'Additional_Directions', 'Day_Time', 'Season', 'Affiliations'], axis=1, inplace=True)\n",
    "\n",
    "fcounts = farmersmarkets.groupby('Zip').count()\n",
    "fcounts_temp = fcounts.loc[fcounts['Name'] > fcounts['Name'].max()/2]\n",
    "fcounts_temp.plot.bar()"
   ]
  },
  {
   "cell_type": "code",
   "execution_count": null,
   "metadata": {},
   "outputs": [],
   "source": []
  }
 ],
 "metadata": {
  "kernelspec": {
   "display_name": "Python 3.7",
   "language": "python",
   "name": "python3"
  },
  "language_info": {
   "codemirror_mode": {
    "name": "ipython",
    "version": 3
   },
   "file_extension": ".py",
   "mimetype": "text/x-python",
   "name": "python",
   "nbconvert_exporter": "python",
   "pygments_lexer": "ipython3",
   "version": "3.7.0"
  }
 },
 "nbformat": 4,
 "nbformat_minor": 4
}
