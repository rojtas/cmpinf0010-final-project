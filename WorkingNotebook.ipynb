{
 "cells": [
  {
   "cell_type": "markdown",
   "metadata": {},
   "source": [
    "## Introduction\n",
    "Because Pittsburgh is always called a food city, we decided to base our metric on density of food per Allegheny county zip code. By \"food\", we mean places that residents can buy food, like supermarkets, convenience stores, restaurants, and farmers markets. Combined, these places will give us a good idea of how much food there actually is per zip code. Some other options we explored included sorting dog names by neighborhood, health quality per zip code with regard to metrics like obesity and smoking rates, and food quality per zip code. \n",
    "\n",
    "## Metric\n",
    "Our data sets are the following: \n",
    "* [Allegheny County Supermarkets and Convenience Stores](https://data.wprdc.org/dataset/allegheny-county-supermarkets-convenience-stores/resource/626357fa-c95d-465f-9a02-3121655b2b78)\n",
    "* [Allegheny County Farmers Markets](https://data.wprdc.org/dataset/allegheny-county-farmers-markets-locations)\n",
    "* [Allegheny County Restaurant Food Facility Inspections and Locations](https://data.wprdc.org/dataset/allegheny-county-restaurant-food-facility-inspection-violations)\n",
    "\n",
    "Our metric is the amount of food facilities per zip code. We chose this specifically because all three of these data sets have a zip code listing. This makes it easier to combine all three of these datasets into one in fewer lines of code, as they all have a common column.  "
   ]
  },
  {
   "cell_type": "code",
   "execution_count": 1,
   "metadata": {},
   "outputs": [],
   "source": [
    "import pandas as pd\n",
    "%matplotlib inline"
   ]
  },
  {
   "cell_type": "markdown",
   "metadata": {},
   "source": [
    "## Convenience Store Data"
   ]
  },
  {
   "cell_type": "markdown",
   "metadata": {},
   "source": [
    "To begin, we'll look at our convenience store/supermarket dataset. We will first filter out the categories that we don't need, like street name, state, and legal name; we're just looking for the name of the place and its zip code. For the sake of combining data later, we will also rename the name and zip code categories to not be case sensitive. This way, we will be able to use the + operator to combine the sets into a new data frame. Finally, we eliminate any zip code that has less than the average amount of convenience stores and supermarkets. These zip codes will not be relevant in the short term, as we already know that a zip code with such a small amount of convenience stores and supermarkets will not be important to these short term results. "
   ]
  },
  {
   "cell_type": "code",
   "execution_count": 3,
   "metadata": {},
   "outputs": [
    {
     "data": {
      "text/html": [
       "<div>\n",
       "<style scoped>\n",
       "    .dataframe tbody tr th:only-of-type {\n",
       "        vertical-align: middle;\n",
       "    }\n",
       "\n",
       "    .dataframe tbody tr th {\n",
       "        vertical-align: top;\n",
       "    }\n",
       "\n",
       "    .dataframe thead th {\n",
       "        text-align: right;\n",
       "    }\n",
       "</style>\n",
       "<table border=\"1\" class=\"dataframe\">\n",
       "  <thead>\n",
       "    <tr style=\"text-align: right;\">\n",
       "      <th></th>\n",
       "      <th>name</th>\n",
       "    </tr>\n",
       "    <tr>\n",
       "      <th>zip</th>\n",
       "      <th></th>\n",
       "    </tr>\n",
       "  </thead>\n",
       "  <tbody>\n",
       "    <tr>\n",
       "      <th>15237.0</th>\n",
       "      <td>28</td>\n",
       "    </tr>\n",
       "    <tr>\n",
       "      <th>15146.0</th>\n",
       "      <td>22</td>\n",
       "    </tr>\n",
       "    <tr>\n",
       "      <th>15222.0</th>\n",
       "      <td>21</td>\n",
       "    </tr>\n",
       "    <tr>\n",
       "      <th>15108.0</th>\n",
       "      <td>19</td>\n",
       "    </tr>\n",
       "    <tr>\n",
       "      <th>15132.0</th>\n",
       "      <td>19</td>\n",
       "    </tr>\n",
       "  </tbody>\n",
       "</table>\n",
       "</div>"
      ],
      "text/plain": [
       "         name\n",
       "zip          \n",
       "15237.0    28\n",
       "15146.0    22\n",
       "15222.0    21\n",
       "15108.0    19\n",
       "15132.0    19"
      ]
     },
     "execution_count": 3,
     "metadata": {},
     "output_type": "execute_result"
    },
    {
     "data": {
      "image/png": "[encoded data removed]",
      "text/plain": [
       "<Figure size 432x288 with 1 Axes>"
      ]
     },
     "metadata": {
      "needs_background": "light"
     },
     "output_type": "display_data"
    }
   ],
   "source": [
    "#loading in the data set, and getting rid of extra parameters that we don't need\n",
    "conveniencemarkets = pd.read_csv(\"data-conveniencesupermarkets.csv\")\n",
    "conveniencemarkets.drop(['Client ID', 'Legal Name', 'Start Date', 'Street #', 'Street Name', 'State', 'Lat', 'Lon', 'Accuracy', 'Category'], axis=1, inplace=True)\n",
    "\n",
    "#renames the columns so that when the data sets are combined, they have uniform names\n",
    "conveniencemarkets.rename(columns={'Name': 'name', 'Zip': 'zip'}, inplace = True)\n",
    "\n",
    "#counts the number of convenience stores by zip code\n",
    "ccounts = conveniencemarkets.groupby('zip').count()\n",
    "\n",
    "#using a temporary variable to get rid of data that is less than half of the maximum count, so that\n",
    "# when displaying the data the graph is not overcrowded, then both graphing and displaying the data\n",
    "ccounts_temp = ccounts.loc[ccounts['name'] > ccounts['name'].max()/2]\n",
    "ccounts_temp.plot.bar(legend = None)\n",
    "ccounts_temp.sort_values(by=['name'], ascending=False).head(5)"
   ]
  },
  {
   "cell_type": "markdown",
   "metadata": {},
   "source": [
    "As shown by this dataset, the 15237 zip code has the most convenience stores and supermarkets at 28. This is a zip code classified under Pittsburgh, but it encompasses townships like Ross Township, McCandless, and Franklin Park. Following close behind is 15146 (Monroeville) at 22 supermarkets/convenience stores, and 15222 at 21 supermarkets/convenience stores (Downtown Pittsburgh and the Strip District). "
   ]
  },
  {
   "cell_type": "markdown",
   "metadata": {},
   "source": [
    "## Restaurant Data"
   ]
  },
  {
   "cell_type": "markdown",
   "metadata": {},
   "source": [
    "With our restaurant data, we're going to need to do some more intensive data cleaning. Along with dropping irrelevant categories like seat count, square feet, and ID number, we also need to filter out any duplicates we see. This data set contains data for any food facility that has gotten an inspection over the past few decades. This means that some facilities will be included twice or more times in the set, as some places have data for more than one inspection. As well as filtering out these duplicates, we also need to filter out any retail/convenience stores and chain packaged food stores, because these stores are already covered by the convenience stores/supermarkets dataset. Filtering these stores out ensures that these facilities will not be counted twice in our final graph that combines our datasets. We also filtered out any stores in a municipal outside of Allegheny county to ensure that we only got relevant facilities. Finally, we did the same standard cleaning as the last data set with filtering out below-average zip codes and renaming columns."
   ]
  },
  {
   "cell_type": "code",
   "execution_count": 4,
   "metadata": {},
   "outputs": [
    {
     "data": {
      "text/html": [
       "<div>\n",
       "<style scoped>\n",
       "    .dataframe tbody tr th:only-of-type {\n",
       "        vertical-align: middle;\n",
       "    }\n",
       "\n",
       "    .dataframe tbody tr th {\n",
       "        vertical-align: top;\n",
       "    }\n",
       "\n",
       "    .dataframe thead th {\n",
       "        text-align: right;\n",
       "    }\n",
       "</style>\n",
       "<table border=\"1\" class=\"dataframe\">\n",
       "  <thead>\n",
       "    <tr style=\"text-align: right;\">\n",
       "      <th></th>\n",
       "      <th>name</th>\n",
       "    </tr>\n",
       "    <tr>\n",
       "      <th>zip</th>\n",
       "      <th></th>\n",
       "    </tr>\n",
       "  </thead>\n",
       "  <tbody>\n",
       "    <tr>\n",
       "      <th>15222</th>\n",
       "      <td>514</td>\n",
       "    </tr>\n",
       "    <tr>\n",
       "      <th>15212</th>\n",
       "      <td>458</td>\n",
       "    </tr>\n",
       "    <tr>\n",
       "      <th>15213</th>\n",
       "      <td>404</td>\n",
       "    </tr>\n",
       "    <tr>\n",
       "      <th>15219</th>\n",
       "      <td>347</td>\n",
       "    </tr>\n",
       "    <tr>\n",
       "      <th>15237</th>\n",
       "      <td>314</td>\n",
       "    </tr>\n",
       "  </tbody>\n",
       "</table>\n",
       "</div>"
      ],
      "text/plain": [
       "       name\n",
       "zip        \n",
       "15222   514\n",
       "15212   458\n",
       "15213   404\n",
       "15219   347\n",
       "15237   314"
      ]
     },
     "execution_count": 4,
     "metadata": {},
     "output_type": "execute_result"
    },
    {
     "data": {
      "image/png": "[encoded data removed]",
      "text/plain": [
       "<Figure size 432x288 with 1 Axes>"
      ]
     },
     "metadata": {
      "needs_background": "light"
     },
     "output_type": "display_data"
    }
   ],
   "source": [
    "#loading in the restaurant data set\n",
    "restaurants = pd.read_csv('GeocodedFoodFacilities.csv')\n",
    "\n",
    "#gets rid of duplicate entries (this data set is food inspections for the restaurants so many have multiple entries)\n",
    "restaurants.drop_duplicates(subset = ['facility_name','num'], keep = 'first', inplace = True)\n",
    "\n",
    "#removes any entries that will overlap with other data sets, as well as any outside of Allegheny county\n",
    "restaurants = restaurants.loc[restaurants['description'] != 'Chain Retail/Convenience Store']\n",
    "restaurants = restaurants.loc[restaurants['description'] != 'Retail/Convenience Store']\n",
    "restaurants = restaurants.loc[restaurants['description'] != 'Chain Packaged Food Only']\n",
    "restaurants = restaurants.loc[restaurants['municipal'] != 'Out Of County']\n",
    "\n",
    "#gets rid of extra parameters that we do not need\n",
    "restaurants.drop(['id', 'num', 'street', 'city', 'state', 'municipal', 'category_cd', 'description', 'fdo', 'bus_st_date', 'p_code', 'seat_count', 'noroom', 'sq_feet', 'status', 'placard_st', 'x', 'y', 'address'], axis=1, inplace=True)\n",
    "\n",
    "#renames the columns so that when the data sets are combined, they have uniform names\n",
    "restaurants.rename(columns={'facility_name': 'name'}, inplace = True)\n",
    "\n",
    "#using a temporary variable to get rid of data that is less than half of the maximum count, so that\n",
    "# when displaying the data the graph is not overcrowded, then both graphing and displaying the data\n",
    "rcounts = restaurants.groupby('zip').count()\n",
    "rcounts_temp = rcounts.loc[rcounts['name'] > rcounts['name'].max()/2]\n",
    "rcounts_temp.plot.bar(legend = None)\n",
    "rcounts_temp.sort_values(by=['name'], ascending=False).head(5)"
   ]
  },
  {
   "cell_type": "markdown",
   "metadata": {},
   "source": [
    "Here, 15222 (Downtown and Strip District) has the most restaurants at 514. Second place in this data set goes to 15212 with 458 restaurants in Reserve Township and Millvale. Third place is 15213, which is our very own Oakland with 404 restaurants. "
   ]
  },
  {
   "cell_type": "markdown",
   "metadata": {},
   "source": [
    "## Farmers Market Data"
   ]
  },
  {
   "cell_type": "markdown",
   "metadata": {},
   "source": [
    "Farmers markets make up a much smaller percentage of food facilities in Allegheny County, but this small amount may make or break some zip codes. As such, we followed the same procedure as we did with the convenience stores/supermarkets data set. We dropped irrelevant categories like additional directions and street address, renamed the columns to make them easier to merge with the other two datasets, and, for the sake of short term data analysis, dropped any zip codes that had the lowest amount of farmers markets. "
   ]
  },
  {
   "cell_type": "code",
   "execution_count": 6,
   "metadata": {},
   "outputs": [
    {
     "data": {
      "text/html": [
       "<div>\n",
       "<style scoped>\n",
       "    .dataframe tbody tr th:only-of-type {\n",
       "        vertical-align: middle;\n",
       "    }\n",
       "\n",
       "    .dataframe tbody tr th {\n",
       "        vertical-align: top;\n",
       "    }\n",
       "\n",
       "    .dataframe thead th {\n",
       "        text-align: right;\n",
       "    }\n",
       "</style>\n",
       "<table border=\"1\" class=\"dataframe\">\n",
       "  <thead>\n",
       "    <tr style=\"text-align: right;\">\n",
       "      <th></th>\n",
       "      <th>name</th>\n",
       "    </tr>\n",
       "    <tr>\n",
       "      <th>zip</th>\n",
       "      <th></th>\n",
       "    </tr>\n",
       "  </thead>\n",
       "  <tbody>\n",
       "    <tr>\n",
       "      <th>15001</th>\n",
       "      <td>4</td>\n",
       "    </tr>\n",
       "    <tr>\n",
       "      <th>15065</th>\n",
       "      <td>4</td>\n",
       "    </tr>\n",
       "    <tr>\n",
       "      <th>15090</th>\n",
       "      <td>4</td>\n",
       "    </tr>\n",
       "    <tr>\n",
       "      <th>15206</th>\n",
       "      <td>4</td>\n",
       "    </tr>\n",
       "    <tr>\n",
       "      <th>15208</th>\n",
       "      <td>4</td>\n",
       "    </tr>\n",
       "    <tr>\n",
       "      <th>15221</th>\n",
       "      <td>4</td>\n",
       "    </tr>\n",
       "    <tr>\n",
       "      <th>15222</th>\n",
       "      <td>4</td>\n",
       "    </tr>\n",
       "    <tr>\n",
       "      <th>15037</th>\n",
       "      <td>3</td>\n",
       "    </tr>\n",
       "    <tr>\n",
       "      <th>15212</th>\n",
       "      <td>3</td>\n",
       "    </tr>\n",
       "    <tr>\n",
       "      <th>15228</th>\n",
       "      <td>3</td>\n",
       "    </tr>\n",
       "    <tr>\n",
       "      <th>15237</th>\n",
       "      <td>3</td>\n",
       "    </tr>\n",
       "  </tbody>\n",
       "</table>\n",
       "</div>"
      ],
      "text/plain": [
       "       name\n",
       "zip        \n",
       "15001     4\n",
       "15065     4\n",
       "15090     4\n",
       "15206     4\n",
       "15208     4\n",
       "15221     4\n",
       "15222     4\n",
       "15037     3\n",
       "15212     3\n",
       "15228     3\n",
       "15237     3"
      ]
     },
     "execution_count": 6,
     "metadata": {},
     "output_type": "execute_result"
    },
    {
     "data": {
      "image/png": "[encoded data removed]",
      "text/plain": [
       "<Figure size 432x288 with 1 Axes>"
      ]
     },
     "metadata": {
      "needs_background": "light"
     },
     "output_type": "display_data"
    }
   ],
   "source": [
    "#loading in the farmers market data set\n",
    "farmersmarkets = pd.read_csv('2019_farmers-markets.csv')\n",
    "\n",
    "#gets rid of extra parameters that we do not need\n",
    "farmersmarkets.drop(['Street_Address', 'City', 'State', 'Latitude', 'Longitude', 'Additional_Directions', 'Day_Time', 'Season', 'Affiliations'], axis=1, inplace=True)\n",
    "\n",
    "#renames the columns so that when the data sets are combined, they have uniform names\n",
    "farmersmarkets.rename(columns={'Name': 'name', 'Zip': 'zip'}, inplace = True)\n",
    "\n",
    "#renames the columns so that when the data sets are combined, they have uniform names\n",
    "fcounts = farmersmarkets.groupby('zip').count()\n",
    "\n",
    "#using a temporary variable to get rid of data that is less than half of the maximum count, so that\n",
    "# when displaying the data the graph is not overcrowded, then both graphing and displaying the data\n",
    "fcounts_temp = fcounts.loc[fcounts['name'] > fcounts['name'].max()/2]\n",
    "fcounts_temp.plot.bar(legend = None)\n",
    "fcounts_temp.sort_values(by=['name'], ascending=False)"
   ]
  },
  {
   "cell_type": "markdown",
   "metadata": {},
   "source": [
    "We very clearly have a lot of ties going on here. This stems from the fact that, as mentioned above, there aren't that many farmers markets compared to convenience stores, supermarkets, and other restaurants. Nonetheless, we still need to take them into account. We have a seven-way tie for first place with these four farmers markets each. These zipcodes are as follows: \n",
    "* 15001 (Aliquippa) \n",
    "* 15065 (Natrona Heights)\n",
    "* 15090 (Wexford)\n",
    "* 15206 (Penn Hills, Ohara, Sharpsburg)\n",
    "* 15212 (Reserve Township and Millvale)\n",
    "* 15221 (Wilkinsburg, Churchill, Braddock Hills)\n",
    "* 15222 (Downtown, Strip District)\n",
    "\n"
   ]
  },
  {
   "cell_type": "markdown",
   "metadata": {},
   "source": [
    "## Combined Data"
   ]
  },
  {
   "cell_type": "markdown",
   "metadata": {},
   "source": [
    "Now, for the moment we've all been waiting for: the merging of the data! First, we create a new dataset that encompases the total amount of convenience stores/supermarkets, restaurants, and farmers markets. Since all the datasets have been cleaned so that they all have the same columns, we can simply use concatination with the + operand to combine these datasets. We made the bar graph a bit bigger so it's easier to see."
   ]
  },
  {
   "cell_type": "code",
   "execution_count": 10,
   "metadata": {},
   "outputs": [
    {
     "data": {
      "text/html": [
       "<div>\n",
       "<style scoped>\n",
       "    .dataframe tbody tr th:only-of-type {\n",
       "        vertical-align: middle;\n",
       "    }\n",
       "\n",
       "    .dataframe tbody tr th {\n",
       "        vertical-align: top;\n",
       "    }\n",
       "\n",
       "    .dataframe thead th {\n",
       "        text-align: right;\n",
       "    }\n",
       "</style>\n",
       "<table border=\"1\" class=\"dataframe\">\n",
       "  <thead>\n",
       "    <tr style=\"text-align: right;\">\n",
       "      <th></th>\n",
       "      <th>facilities</th>\n",
       "    </tr>\n",
       "    <tr>\n",
       "      <th>zip</th>\n",
       "      <th></th>\n",
       "    </tr>\n",
       "  </thead>\n",
       "  <tbody>\n",
       "    <tr>\n",
       "      <th>15222.0</th>\n",
       "      <td>539.0</td>\n",
       "    </tr>\n",
       "    <tr>\n",
       "      <th>15212.0</th>\n",
       "      <td>478.0</td>\n",
       "    </tr>\n",
       "    <tr>\n",
       "      <th>15213.0</th>\n",
       "      <td>422.0</td>\n",
       "    </tr>\n",
       "    <tr>\n",
       "      <th>15237.0</th>\n",
       "      <td>345.0</td>\n",
       "    </tr>\n",
       "    <tr>\n",
       "      <th>15146.0</th>\n",
       "      <td>297.0</td>\n",
       "    </tr>\n",
       "  </tbody>\n",
       "</table>\n",
       "</div>"
      ],
      "text/plain": [
       "         facilities\n",
       "zip                \n",
       "15222.0       539.0\n",
       "15212.0       478.0\n",
       "15213.0       422.0\n",
       "15237.0       345.0\n",
       "15146.0       297.0"
      ]
     },
     "execution_count": 10,
     "metadata": {},
     "output_type": "execute_result"
    },
    {
     "data": {
      "image/png": "[encoded data removed]",
      "text/plain": [
       "<Figure size 1080x720 with 1 Axes>"
      ]
     },
     "metadata": {
      "needs_background": "light"
     },
     "output_type": "display_data"
    }
   ],
   "source": [
    "#creating a new dataframe for the combined data\n",
    "total_counts = pd.DataFrame({'facilities': []})\n",
    "\n",
    "#summing the counts from all three data sets into this one\n",
    "total_counts['facilities'] = ccounts['name'] + rcounts['name'] + fcounts['name']\n",
    "\n",
    "#gets rid of any total counts that are less\n",
    "total_counts = total_counts.loc[total_counts['facilities'] > total_counts['facilities'].max()/4]\n",
    "\n",
    "total_counts.plot.bar(figsize=(15,10), legend=None)\n",
    "total_counts.sort_values(by=['facilities'], ascending=False).head(5)"
   ]
  },
  {
   "cell_type": "markdown",
   "metadata": {},
   "source": [
    "Clearly, 15222 (Downtown and Strip District) has the largest amount of food facilities at 539, so by our metric, that makes Downtown and the Strip District the best places in Allegheny County! Following behind at 478 facilities is 15212 (Reserve Township and Millvale), and our bronze medal goes to 15213 (Oakland) with 422 facilities. All of these zip codes/neighborhoods are technically still Pittsburgh, so it is no surprise that these neighborhoods come out on top. Granted, these metrics don't take population into account -- restaurants per capita was out of the question because we couldn't find a data set that had what we needed, but in any case, more is always better, especially with food!"
   ]
  },
  {
   "cell_type": "markdown",
   "metadata": {},
   "source": [
    "## Conclusion"
   ]
  },
  {
   "cell_type": "markdown",
   "metadata": {},
   "source": [
    "(\"Reflect on how the data driven determination of “best neighborhood” is the same or different from your personal favorite neighborhood. Each member of the group should write their own response to this\")"
   ]
  },
  {
   "cell_type": "markdown",
   "metadata": {},
   "source": [
    "**Lindsey**:\n",
    "\n",
    "The data does differ from my actual favorite neighborhood/zip code, but that's mostly because of bias towards my hometown. I hail from 15025 (Jefferson Hills/Clairton) and am most familiar with the restaurants from around there. It makes sense that Downtown/Strip District won, though; it's more population-dense, for one thing, and there are a lot of good restaurants there. However, I just prefer the food from home, especially now that I'm in college and am not around it nearly as much as I used to be. "
   ]
  },
  {
   "cell_type": "code",
   "execution_count": null,
   "metadata": {},
   "outputs": [],
   "source": []
  }
 ],
 "metadata": {
  "kernelspec": {
   "display_name": "Python 3.7",
   "language": "python",
   "name": "python3"
  },
  "language_info": {
   "codemirror_mode": {
    "name": "ipython",
    "version": 3
   },
   "file_extension": ".py",
   "mimetype": "text/x-python",
   "name": "python",
   "nbconvert_exporter": "python",
   "pygments_lexer": "ipython3",
   "version": "3.7.0"
  }
 },
 "nbformat": 4,
 "nbformat_minor": 4
}
