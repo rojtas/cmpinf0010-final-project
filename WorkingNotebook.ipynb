{
 "cells": [
  {
   "cell_type": "markdown",
   "metadata": {},
   "source": [
    "## Introduction\n",
    "Because Pittsburgh is always called a food city, we decided to base our metric on density of food per Allegheny county zip code. By \"food\", we mean places that residents can buy food, like supermarkets, convenience stores, restaurants, and farmers markets. Combined, these places will give us a good idea of how much food there actually is per zip code. Some other options we explored included sorting dog names by neighborhood, health quality per zip code with regard to metrics like obesity and smoking rates, and food quality per zip code. \n",
    "\n",
    "## Metric\n",
    "Our data sets are the following: \n",
    "* [Allegheny County Supermarkets and Convenience Stores](https://data.wprdc.org/dataset/allegheny-county-supermarkets-convenience-stores/resource/626357fa-c95d-465f-9a02-3121655b2b78)\n",
    "* [Allegheny County Farmers Markets](https://data.wprdc.org/dataset/allegheny-county-farmers-markets-locations)\n",
    "* [Allegheny County Restaurant Food Facility Inspections and Locations](https://data.wprdc.org/dataset/allegheny-county-restaurant-food-facility-inspection-violations)\n",
    "\n",
    "Our metric is the amount of food facilities per zip code. We chose this specifically because all three of these data sets have a zip code listing. This makes it easier to combine all three of these datasets into one in fewer lines of code, as they all have a common column.  "
   ]
  },
  {
   "cell_type": "code",
   "execution_count": 4,
   "metadata": {},
   "outputs": [],
   "source": [
    "import pandas as pd\n",
    "%matplotlib inline"
   ]
  },
  {
   "cell_type": "markdown",
   "metadata": {},
   "source": [
    "## Convenience Store Data"
   ]
  },
  {
   "cell_type": "markdown",
   "metadata": {},
   "source": [
    "To begin, we'll look at our convenience store/supermarket dataset. We will first filter out the categories that we don't need, like street name, state, and legal name; we're just looking for the name of the place and its zip code. For the sake of combining data later, we will also rename the name and zip code categories to not be case sensitive. This way, we will be able to use the + operator to combine the sets into a new data frame. Finally, we eliminate any zip code that has less than the average amount of convenience stores and supermarkets. These zip codes will not be relevant in the short term, as we already know that a zip code with such a small amount of convenience stores and supermarkets will not be important to these short term results. "
   ]
  },
  {
   "cell_type": "code",
<<<<<<< HEAD
   "execution_count": 7,
   "metadata": {},
   "outputs": [
    {
     "data": {
      "text/html": [
       "<div>\n",
       "<style scoped>\n",
       "    .dataframe tbody tr th:only-of-type {\n",
       "        vertical-align: middle;\n",
       "    }\n",
       "\n",
       "    .dataframe tbody tr th {\n",
       "        vertical-align: top;\n",
       "    }\n",
       "\n",
       "    .dataframe thead th {\n",
       "        text-align: right;\n",
       "    }\n",
       "</style>\n",
       "<table border=\"1\" class=\"dataframe\">\n",
       "  <thead>\n",
       "    <tr style=\"text-align: right;\">\n",
       "      <th></th>\n",
       "      <th>name</th>\n",
       "    </tr>\n",
       "    <tr>\n",
       "      <th>zip</th>\n",
       "      <th></th>\n",
       "    </tr>\n",
       "  </thead>\n",
       "  <tbody>\n",
       "    <tr>\n",
       "      <th>15237.0</th>\n",
       "      <td>28</td>\n",
       "    </tr>\n",
       "    <tr>\n",
       "      <th>15146.0</th>\n",
       "      <td>22</td>\n",
       "    </tr>\n",
       "    <tr>\n",
       "      <th>15222.0</th>\n",
       "      <td>21</td>\n",
       "    </tr>\n",
       "    <tr>\n",
       "      <th>15108.0</th>\n",
       "      <td>19</td>\n",
       "    </tr>\n",
       "    <tr>\n",
       "      <th>15132.0</th>\n",
       "      <td>19</td>\n",
       "    </tr>\n",
       "  </tbody>\n",
       "</table>\n",
       "</div>"
      ],
      "text/plain": [
       "         name\n",
       "zip          \n",
       "15237.0    28\n",
       "15146.0    22\n",
       "15222.0    21\n",
       "15108.0    19\n",
       "15132.0    19"
      ]
     },
     "execution_count": 7,
     "metadata": {},
     "output_type": "execute_result"
    },
    {
     "data": {
      "image/png": "iVBORw0KGgoAAAANSUhEUgAAAXQAAAEpCAYAAACDc9l6AAAABHNCSVQICAgIfAhkiAAAAAlwSFlzAAALEgAACxIB0t1+/AAAADl0RVh0U29mdHdhcmUAbWF0cGxvdGxpYiB2ZXJzaW9uIDIuMi4zLCBodHRwOi8vbWF0cGxvdGxpYi5vcmcvIxREBQAAFw5JREFUeJzt3XuwJGV9xvHnkZuRO+xxQWRdC0HEVAQ5EBM1gqiAiqAxMVgCGpIVA5YoSUmhlWi8rRSCRgWzBgKKaBK5iEgQAhi8AmfXlYuIGF0QaoGDiBAjUeCXP7oXJ7Mze6Z73jnznne+n6quneme+c1vZt5+ts9Md48jQgCAhe8J424AAJAGgQ4AhSDQAaAQBDoAFIJAB4BCEOgAUAgCHQAKQaADQCEIdAAoxMbz+WCLFi2KpUuXzudDAsCCt3LlyvsiYmqu281roC9dulQzMzPz+ZAAsODZvn2Q2/GRCwAUgkAHgEIQ6ABQCAIdAApBoANAIQh0ACgEgQ4AhSDQAaAQ83pgEQBMqqUnfmWg261Z/orWj8EWOgAUgkAHgEIQ6ABQCAIdAApBoANAIQh0ACgEgQ4AhSDQAaAQBDoAFIJAB4BCEOgAUAgCHQAKQaADQCEIdAAoBIEOAIUg0AGgEAQ6ABSCQAeAQswZ6LZ3tn217e/bvtn22+r577F9l+3V9fTy0bcLAOhnkN8UfUTSCRGxyvaWklbavqJedlpEnDK69gAAg5oz0CNiraS19eWHbN8iaadRNwYAaKbRZ+i2l0raS9K19azjbN9g+yzb2ybuDQDQwMCBbnsLSedLOj4iHpR0hqRdJO2pagv+I33ut8z2jO2Z2dnZBC0DAHoZKNBtb6IqzD8XERdIUkTcExGPRsRjkj4tad9e942IFRExHRHTU1NTqfoGAHQZZC8XSzpT0i0RcWrH/B07bvZqSTelbw8AMKhB9nJ5vqQjJN1oe3U97yRJh9veU1JIWiPpzSPpEAAwkEH2cvmGJPdYdGn6dgAAbXGkKAAUgkAHgEIQ6ABQCAIdAApBoANAIQh0ACgEgQ4AhSDQAaAQBDoAFIJAB4BCEOgAUAgCHQAKQaADQCEIdAAoBIEOAIUg0AGgEAQ6ABRikJ+gQ6aWnviVOW+zZvkr5qETADlgCx0ACkGgA0AhCHQAKASBDgCFINABoBAEOgAUgt0WAQxskF1lJXaXHRe20AGgEAQ6ABSCQAeAQswZ6LZ3tn217e/bvtn22+r529m+wvZt9b/bjr5dAEA/g2yhPyLphIjYQ9LzJB1rew9JJ0q6MiJ2lXRlfR0AMCZzBnpErI2IVfXlhyTdImknSYdKOqe+2TmSDhtVkwCAuTX6DN32Ukl7SbpW0uKIWFsvulvS4qSdAQAaGTjQbW8h6XxJx0fEg53LIiIkRZ/7LbM9Y3tmdnZ2qGYBAP0NFOi2N1EV5p+LiAvq2ffY3rFevqOke3vdNyJWRMR0RExPTU2l6BkA0MMge7lY0pmSbomIUzsWXSzpqPryUZK+lL49AMCgBjn0//mSjpB0o+3V9byTJC2X9K+2j5Z0u6Q/HU2LAIBBzBnoEfENSe6z+IC07QAA2uJIUQAoBIEOAIUY++lzcz4dZ869AUA3ttABoBAEOgAUgkAHgEIQ6ABQCAIdAApBoANAIca+2yIwCHYhBebGFjoAFIJAB4BCEOgAUAgCHQAKQaADQCEIdAAoBIEOAIVgP/R5NEn7Uuf8XFP3lns9TA620AGgEAQ6ABSCQAeAQhDoAFAIAh0ACkGgA0Ah2G0RKNwgu0GWsgtkyue6EHcfZQsdAApBoANAIQh0ACjEnIFu+yzb99q+qWPee2zfZXt1Pb18tG0CAOYyyBb62ZIO6jH/tIjYs54uTdsWAKCpOQM9Iq6RdP889AIAGMIwuy0eZ/tISTOSToiIn/e6ke1lkpZJ0pIlS4Z4uMFM0i5aKS3EXbSw8DHu0mr7pegZknaRtKektZI+0u+GEbEiIqYjYnpqaqrlwwEA5tIq0CPinoh4NCIek/RpSfumbQsA0FSrQLe9Y8fVV0u6qd9tAQDzY87P0G1/XtJ+khbZvlPS30naz/aekkLSGklvHmGPAIABzBnoEXF4j9lnjqAXAMAQOFIUAApBoANAIQh0ACgEgQ4AhSDQAaAQBDoAFIJAB4BCEOgAUAgCHQAKQaADQCEIdAAoBIEOAIUg0AGgEAQ6ABSCQAeAQhDoAFAIAh0ACkGgA0AhCHQAKASBDgCFINABoBAEOgAUgkAHgEIQ6ABQCAIdAApBoANAIQh0ACgEgQ4AhZgz0G2fZfte2zd1zNvO9hW2b6v/3Xa0bQIA5jLIFvrZkg7qmneipCsjYldJV9bXAQBjNGegR8Q1ku7vmn2opHPqy+dIOixxXwCAhtp+hr44ItbWl++WtLjfDW0vsz1je2Z2drblwwEA5jL0l6IREZJiA8tXRMR0RExPTU0N+3AAgD7aBvo9tneUpPrfe9O1BABoo22gXyzpqPryUZK+lKYdAEBbg+y2+HlJ35b0TNt32j5a0nJJL7V9m6SX1NcBAGO08Vw3iIjD+yw6IHEvAIAhcKQoABSCQAeAQhDoAFAIAh0ACkGgA0AhCHQAKASBDgCFINABoBAEOgAUgkAHgEIQ6ABQCAIdAApBoANAIQh0ACgEgQ4AhSDQAaAQBDoAFIJAB4BCEOgAUAgCHQAKQaADQCEIdAAoBIEOAIUg0AGgEAQ6ABSCQAeAQhDoAFAIAh0ACrHxMHe2vUbSQ5IelfRIREynaAoA0NxQgV7bPyLuS1AHADAEPnIBgEIMG+gh6XLbK20v63UD28tsz9iemZ2dHfLhAAD9DBvoL4iI50o6WNKxtv+o+wYRsSIipiNiempqasiHAwD0M1SgR8Rd9b/3SrpQ0r4pmgIANNc60G1vbnvLdZclvUzSTakaAwA0M8xeLoslXWh7XZ3zIuKyJF0BABprHegR8WNJz0nYCwBgCOy2CACFINABoBAEOgAUgkAHgEIQ6ABQCAIdAApBoANAIQh0ACgEgQ4AhSDQAaAQBDoAFIJAB4BCEOgAUAgCHQAKQaADQCEIdAAoBIEOAIUg0AGgEAQ6ABSCQAeAQhDoAFAIAh0ACkGgA0AhCHQAKASBDgCFINABoBAEOgAUgkAHgEIMFei2D7J9q+0f2T4xVVMAgOZaB7rtjSR9UtLBkvaQdLjtPVI1BgBoZpgt9H0l/SgifhwRv5b0BUmHpmkLANCUI6LdHe3XSjooIv6ivn6EpN+PiOO6brdM0rL66jMl3TpA+UWS7mvV2GhrTVq9nHtLXS/n3lLXy7m33OuNq7enRcTUXDfaePh+NiwiVkha0eQ+tmciYjrF46esNWn1cu4tdb2ce0tdL+fecq+Xc2/ScB+53CVp547rT63nAQDGYJhAv17SrrafbntTSX8m6eI0bQEAmmr9kUtEPGL7OElflbSRpLMi4uZEfTX6iGYea01avZx7S10v595S18u5t9zr5dxb+y9FAQB54UhRACgEgQ4AhSDQAaAQBDoAFIJAB4BCjPxI0UHY3lrSQZJ2qmfdJemrEfHA+Lqq2N5d1TlqOnu7OCJuKa1ezr2Nol5KOfc2aSZpneg29i1020dKWiVpP0lPqqf9Ja2sl7WpeaDtM2xfXE9n2D6oRZ13qjrpmCVdV0+W9Pk2pwvOuV7OvY2oXpIxMoreUveXul7mvU3MOtHzMca9H7rtW1Wd1OuBrvnbSro2InZrWO+jknaT9BlJd9aznyrpSEm3RcTbGtT6oaRnR8RvuuZvKunmiNi1YW/Z1su5t9T1Uo6R1L2NqL+U60S2vdX1Jmad6CkixjpJ+qGkrXvM31rVG9q4Xp/5blpP0g9UneWse/7TJN3aords6+Xc2wiea7IxMqLnmrq/lOtEtr2NYJxkO4b7TTl8hv4BSatsXy7pp/W8JZJeKul9Leo9bHufiLi+a/4+kh5uWOt4SVfavq2rt2dIOq7vvRZmvZx7S10v5RhJ3dso+ktZL+fepMlaJ9Yz9o9cpMc/XjlQ638p+vMWtZ4r6QxJW+q3f8LtLOkXko6NiJUN6z1B1Y95dPZ2fUQ82rS33Ovl3FvKeqnHSMreRtFfyno599ZRc2LWifXq5xDoo2B7B3W8aBFx9zj7QX5yHyOp+0tZL+feJlnWgW57RUQsm/uW88/2JRHxykmol3Nvo6iXUs69TZpJWCdyD/S92/zJtYF6qyLiuYlq7RgRa1PUyr1ezr2lrpdyjNT1Uj/X1P2lXCey7a2uV/w6kXWgTwLb20fEz3Ktl1Kq3mxvJ0kRcf/wXQGDy3n9kvI4sGja9tW2z7W9s+0rbP/C9vW29xpzb1vZ/pDtz9p+fdey01vUW257UX152vaPJV1r+3bbLxpnPXccyGF7a9tn2r7B9nm2F4+zt7rGEttfsD0r6VpJ19m+t563tGm9lGzvbvvfbX/F9i62z7b9gO3rbD9ryNrb2t4qVa+lSzmORzCGV9l+t+1dmt53YCn2fRxmUnW01MGSDle1K89r6/kHSPp2i3o7qzoa6+uSTpK0SceyixrWOl/SckmHqfp5vfMlbVYvW9Witxs7Ll8taZ/68m6SZsZZr/P5SPonSe9XtX/s25u+biN6rt+W9DpJG3XM20jVTx9+Z1xjpL7PNZIOqcfw7XVPrudd2aLeU1QdaPMLSY9KuqOe3tPZa4qp830a02t3fz3eDlD9icGQzyfZOB7BGP6JpFPq9/K6uqenJH0/UxZr+QZ8t+PyHf2WNah3haRjJO0p6eOSviVp+zb1JK3uuv4uSd+UtH3LQL9F0sb15e90LWu0YqWu17UidD/v1ePsrb5P34NMNrRs1GOk+z6SftTvdW1Q7ypJ+9WXXyPpNEmb1+G0okW91/SZ/ljS7Jhfu1tV7YP9TVW78H1M0vOa1un1eg87jkcwhjt7e6Gk0yXdreo/i2Vtn3PnlMOBRQ/bfpmqI0PD9mERcVH9J02bfTOnIuJT9eW32n6DpGtsv0pS0y8MNrP9hIh4TJIi4gO271K1RbZFi95Ol3Sp7eWSLrP9MUkXSHqxpNVjrvdk2+9QtWW5lW1HPfLU7qO51M91Zf0x1zn67UEZO0s6StJ3G9ZKOUak6i+FdU7tWrZpi3rbR8TXJCkiLrD9roj4paR32/5Bi3r/Iulz6v3cntiwVurX7pcR8QlJn7C9RNVfN6fb3kbSFyLipIb1Uo7j1GP4cRHxdUlft/1WVQdRvk4Jfl80h0A/RtLJkh5TdXDRW2yfrep/679sUW8T20+MiIclKSLOtX23qh+z3rxhrS+revP+Y92MiDi7rvfxpo1FxMdt36TqOe+m6vXfTdJFqra+2tS7UdJbuupd2KLep1Ud3CFVoblI0qyr/YMbD97Uz1XVuT2OlvRe/XZ/5TtVvUdnNqyVcoxI0idtbxER/x0Rj3+3YvsZ6hg7DczWQXm1qi3pNXU9q91/rjdIOiUibupeYPslDWulfu287kJE3KEqC052dVbC17Wol2wcj2AM/7DHYzwq6bJ6Glpxe7nYfruqP23+s2v+XpJOjoiXjqcz5CL3MVJvqZ4iaQ9VIfQ3EbHW9vaqPoo5v2G9F0q6vQ7M7mXTETHToFbS1872qRHxjib3QX9ZBLrtA1V98dh5OOxFEfHV8XX1+BbRn6j6U/KLqrbWD1V1kp1PrfsoZlz1+jzGVRHx4pb37fU+fCkiWm09pK63gcf524j4+5Q1U8m5txKlXMcW5Po/7kB34tNn1jUPrGtcGRFrOub/eUSc1aDO6ZKerOpz0AclbaZqb5dXSLqnaW8jqHdD9yxVr+WtkhQRv9egVtanRZ3jse6IiCWJaiUN4JS91fVa9ZdqnUhdawS9JVvHcl//e0rxzeowk9KfPvNDqr60/Kik/5L01o5ljfY4UP1NtqRNJP1M0qb19Y0l3dCit9T1LpZ0rqTdVe2atVTVF4ZPU4/TdM7z+5C63oN9pockPZJwPN6Ra29D9PfBhOtEsvVrRPWSrWO5r/+9prEfWKT69Jk95rc9feYrJb04Io6XtLekg22fVi9z/7v19IgkRXVC+usj4tf19UdUfYnbVNJ6EfEqVfvGr5D0nKi2bn4TEbdHxO0Ny6V+H1LXe0DSrhGxVde0paRGh0zbfrDP9JCqfcDH1tuI+jtE6daJlOvXKOqlXMeyXv97yWEvlzdKOsN2r9NnvrFFvY3rF0gR8YDtQyStsP1var4L2d0dey90HoG2g6Rft+gtdT1FxIWuziX/PttHq91uclL69yF1vc+o+svjnh7LzmtY6wFVB4msV8v2T3vcfj57k9L3l3KdSFlrFPVSrmPZr//rSbGZn2KStIOq/6H3lrTDEHUukfSiHvPfL+mxRL1uLunJCZ97knqSniPpmBzeh1HVS/R6v1/Svn2Wfbi0/lKuE6nXr/lYX+t6ydbZXNf/iBj/l6IbYnv3iGh0IIXt35GkiPhVj2U7RcRd4+ptIdSzvUms/5uHiyLivpZ9ZF0vpVx7S7lOpF6/RrW+pnwvFtIYzuEz9A25vOkdIuJXvQZHbcs+89to3FvO9Wzvb/tOSWttX+7/f8Krxr3lXq+uuUmPeYty6C1lf+vWiV71JP3vuGqNol7K92IhjOFuY/8M3fY/9FskaZvED3e5qt/wG0jq3jKvd7KkAyPiZtuvlXSF7SMi4jtq9+VUtvVs7y/ps5KeaHuVqvNorKkXXy6p6Tm4kz7X1P2lrJdzb7WU70W2Y7ifsQe6pDdJOkG9/zc+vGmxxCGXtLfM620aETdLUkR80fYtki6w/U61O0dHzvVSr1ipn2vOQZJzb1La9yLnMdxbqg/2h/hC4CpJf9hn2U9a1HtI0jJVJ23qnu4bc2/Z1pM0o64vLVUd7LFa0kMtesu2nqTvdV1/tqqDsQ5Tu32fUz/X1P0lq5dzbyMYJ9mO4b6PkaLIUA1I20l6UsJ6KUMudW/Z1pP0ElX7snfP30bSu0qqN4IVNfVzzTZIcu5tBOMk2zHcb8p6L5c2XP082cMR8T/j7gV5cnWGwdmI+F7X/G0kHRsRHxhPZ4/3kbS/lPVy7g3KYgv9oI7LW6s6FeoNqg7IWFxSbznXy7m3SRsnTHm8FwtxDOew2+IHOy5/RNWh0odIul7SPzYt5rS/jZm0t8zr5dxb0nqJx0jS3kbRX8p6OfdWm6R1Yn0Z/I+a+qfPUv6m4Ch7y6pezr2N+Lmm+P3UbMdw6no59zbicZLVGO435bDbYuqfPus0HRF71pdPs33UmHvLuV7OvY2i3jrDjpFR9paqv1HVy7G3SVon1pNDoCf96TOlfdFS95ZzvZx7S10v9YqV8xhOXS/n3qTJWifWM/ZAj4j39pl/t+2rW5RM+ZuCSXvLuV7OvY2gXurfT812DI+gXs69TdQ60UvWuy06/a+9vCki/jlRrdS9ZVsv595S10s5Rup62Y7h1PVy7q2uV/w6MfZA9/o/o/b4Ikm7RcRmCR+r0YuWurec6+Xc2yjqbeBxGq9YOY/h+ayXQ2+TtE70MvaPXCQtlnSgpJ93zbekbzUtNseL1nQ3qKS9ZV4v596S1ks8RqS8x3DSejn3VpukdWI9OQT6JZK2iIj1Pi+z/bUW9VK+aKl7y7lezr2lrpd6xcp5DKeul3Nv0mStE+tLse9jTpOqo69e0GfZeePuj2n8U+5jJHV/Kevl3BtTgedyAYBJlcOh/wCABAh0ACgEgY6JZ/tSV6drBRY0PkMHgELksNsiMG9sHyPpmPrq1pLWSHq6pGlJW0i6TNJKVT9OfLOkI4MfS8ECwUcumCgR8amozui3j6Q7JZ3adZNnSjo9Ip4l6UFJfzXPLQKtEeiYVB+TdFVEfLlr/k8j4pv15XMlvWB+2wLa4yMXTBzbb1T1IwrH9Vjc/aUSXzJhwWALHRPF9t6S/lrSGyLisR43WWL7D+rLr5f0jXlrDhgSW+iYNMdJ2k7S1bYlaaZr+a2SjrV9lqTvSzpjftsD2mO3RaBme6mkSyLid8fcCtAKH7kAQCHYQgeAQrCFDgCFINABoBAEOgAUgkAHgEIQ6ABQiP8D4wvIHokVZ9kAAAAASUVORK5CYII=\n",
      "text/plain": [
       "<Figure size 432x288 with 1 Axes>"
      ]
     },
     "metadata": {
      "needs_background": "light"
     },
     "output_type": "display_data"
=======
   "execution_count": 1,
   "metadata": {},
   "outputs": [
    {
     "ename": "NameError",
     "evalue": "name 'pd' is not defined",
     "output_type": "error",
     "traceback": [
      "\u001b[0;31m---------------------------------------------------------------------------\u001b[0m",
      "\u001b[0;31mNameError\u001b[0m                                 Traceback (most recent call last)",
      "\u001b[0;32m<ipython-input-1-df6c7e6db79d>\u001b[0m in \u001b[0;36m<module>\u001b[0;34m()\u001b[0m\n\u001b[0;32m----> 1\u001b[0;31m \u001b[0mconveniencemarkets\u001b[0m \u001b[0;34m=\u001b[0m \u001b[0mpd\u001b[0m\u001b[0;34m.\u001b[0m\u001b[0mread_csv\u001b[0m\u001b[0;34m(\u001b[0m\u001b[0;34m\"data-conveniencesupermarkets.csv\"\u001b[0m\u001b[0;34m)\u001b[0m\u001b[0;34m\u001b[0m\u001b[0m\n\u001b[0m\u001b[1;32m      2\u001b[0m \u001b[0mconveniencemarkets\u001b[0m\u001b[0;34m.\u001b[0m\u001b[0mdrop\u001b[0m\u001b[0;34m(\u001b[0m\u001b[0;34m[\u001b[0m\u001b[0;34m'Client ID'\u001b[0m\u001b[0;34m,\u001b[0m \u001b[0;34m'Legal Name'\u001b[0m\u001b[0;34m,\u001b[0m \u001b[0;34m'Start Date'\u001b[0m\u001b[0;34m,\u001b[0m \u001b[0;34m'Street #'\u001b[0m\u001b[0;34m,\u001b[0m \u001b[0;34m'Street Name'\u001b[0m\u001b[0;34m,\u001b[0m \u001b[0;34m'State'\u001b[0m\u001b[0;34m,\u001b[0m \u001b[0;34m'Lat'\u001b[0m\u001b[0;34m,\u001b[0m \u001b[0;34m'Lon'\u001b[0m\u001b[0;34m,\u001b[0m \u001b[0;34m'Accuracy'\u001b[0m\u001b[0;34m,\u001b[0m \u001b[0;34m'Category'\u001b[0m\u001b[0;34m]\u001b[0m\u001b[0;34m,\u001b[0m \u001b[0maxis\u001b[0m\u001b[0;34m=\u001b[0m\u001b[0;36m1\u001b[0m\u001b[0;34m,\u001b[0m \u001b[0minplace\u001b[0m\u001b[0;34m=\u001b[0m\u001b[0;32mTrue\u001b[0m\u001b[0;34m)\u001b[0m\u001b[0;34m\u001b[0m\u001b[0m\n\u001b[1;32m      3\u001b[0m \u001b[0mconveniencemarkets\u001b[0m\u001b[0;34m.\u001b[0m\u001b[0mrename\u001b[0m\u001b[0;34m(\u001b[0m\u001b[0mcolumns\u001b[0m\u001b[0;34m=\u001b[0m\u001b[0;34m{\u001b[0m\u001b[0;34m'Name'\u001b[0m\u001b[0;34m:\u001b[0m \u001b[0;34m'name'\u001b[0m\u001b[0;34m,\u001b[0m \u001b[0;34m'Zip'\u001b[0m\u001b[0;34m:\u001b[0m \u001b[0;34m'zip'\u001b[0m\u001b[0;34m}\u001b[0m\u001b[0;34m,\u001b[0m \u001b[0minplace\u001b[0m \u001b[0;34m=\u001b[0m \u001b[0;32mTrue\u001b[0m\u001b[0;34m)\u001b[0m\u001b[0;34m\u001b[0m\u001b[0m\n\u001b[1;32m      4\u001b[0m \u001b[0;34m\u001b[0m\u001b[0m\n\u001b[1;32m      5\u001b[0m \u001b[0mccounts\u001b[0m \u001b[0;34m=\u001b[0m \u001b[0mconveniencemarkets\u001b[0m\u001b[0;34m.\u001b[0m\u001b[0mgroupby\u001b[0m\u001b[0;34m(\u001b[0m\u001b[0;34m'zip'\u001b[0m\u001b[0;34m)\u001b[0m\u001b[0;34m.\u001b[0m\u001b[0mcount\u001b[0m\u001b[0;34m(\u001b[0m\u001b[0;34m)\u001b[0m\u001b[0;34m\u001b[0m\u001b[0m\n",
      "\u001b[0;31mNameError\u001b[0m: name 'pd' is not defined"
     ]
>>>>>>> parent of 1e9ceef... finished my description and removed legends from graphs
    }
   ],
   "source": [
    "conveniencemarkets = pd.read_csv(\"data-conveniencesupermarkets.csv\")\n",
    "conveniencemarkets.drop(['Client ID', 'Legal Name', 'Start Date', 'Street #', 'Street Name', 'State', 'Lat', 'Lon', 'Accuracy', 'Category'], axis=1, inplace=True)\n",
    "conveniencemarkets.rename(columns={'Name': 'name', 'Zip': 'zip'}, inplace = True)\n",
    "\n",
    "ccounts = conveniencemarkets.groupby('zip').count()\n",
    "ccounts_temp = ccounts.loc[ccounts['name'] > ccounts['name'].max()/2]\n",
<<<<<<< HEAD
    "ccounts_temp.plot.bar(legend=None)\n",
    "ccounts_temp.sort_values(by=['name'], ascending=False).head(5)"
=======
    "ccounts_temp.plot.bar()\n",
    "ccounts_temp.sort_values(by=['name'], ascending=False)\n",
    "ccounts_temp.head(5)"
>>>>>>> parent of 1e9ceef... finished my description and removed legends from graphs
   ]
  },
  {
   "cell_type": "markdown",
   "metadata": {},
   "source": [
    "As shown by this dataset, the 15237 zip code has the most convenience stores and supermarkets at 28. This is a zip code classified under Pittsburgh, but it encompasses townships like Ross Township, McCandless, and Franklin Park. Following close behind is 15146 (Monroeville) at 22 supermarkets/convenience stores, and 15222 at 21 supermarkets/convenience stores (Downtown Pittsburgh and the Strip District). "
   ]
  },
  {
   "cell_type": "markdown",
   "metadata": {},
   "source": [
    "## Restaurant Data"
   ]
  },
  {
   "cell_type": "markdown",
   "metadata": {},
   "source": [
    "With our restaurant data, we're going to need to do some more intensive data cleaning. Along with dropping irrelevant categories like seat count, square feet, and ID number, we also need to filter out any duplicates we see. This data set contains data for any food facility that has gotten an inspection over the past few decades. This means that some facilities will be included twice or more times in the set, as some places have data for more than one inspection. As well as filtering out these duplicates, we also need to filter out any retail/convenience stores and chain packaged food stores, because these stores are already covered by the convenience stores/supermarkets dataset. Filtering these stores out ensures that these facilities will not be counted twice in our final graph that combines our datasets. We also filtered out any stores in a municipal outside of Allegheny county to ensure that we only got relevant facilities. Finally, we did the same standard cleaning as the last data set with filtering out below-average zip codes and renaming columns."
   ]
  },
  {
   "cell_type": "code",
<<<<<<< HEAD
   "execution_count": 8,
=======
   "execution_count": 10,
>>>>>>> parent of 1e9ceef... finished my description and removed legends from graphs
   "metadata": {},
   "outputs": [
    {
     "data": {
      "text/html": [
       "<div>\n",
       "<style scoped>\n",
       "    .dataframe tbody tr th:only-of-type {\n",
       "        vertical-align: middle;\n",
       "    }\n",
       "\n",
       "    .dataframe tbody tr th {\n",
       "        vertical-align: top;\n",
       "    }\n",
       "\n",
       "    .dataframe thead th {\n",
       "        text-align: right;\n",
       "    }\n",
       "</style>\n",
       "<table border=\"1\" class=\"dataframe\">\n",
       "  <thead>\n",
       "    <tr style=\"text-align: right;\">\n",
       "      <th></th>\n",
       "      <th>name</th>\n",
       "    </tr>\n",
       "    <tr>\n",
       "      <th>zip</th>\n",
       "      <th></th>\n",
       "    </tr>\n",
       "  </thead>\n",
       "  <tbody>\n",
       "    <tr>\n",
       "      <th>15222</th>\n",
       "      <td>514</td>\n",
       "    </tr>\n",
       "    <tr>\n",
       "      <th>15212</th>\n",
       "      <td>458</td>\n",
       "    </tr>\n",
       "    <tr>\n",
       "      <th>15213</th>\n",
       "      <td>404</td>\n",
       "    </tr>\n",
       "    <tr>\n",
       "      <th>15219</th>\n",
       "      <td>347</td>\n",
       "    </tr>\n",
       "    <tr>\n",
       "      <th>15237</th>\n",
       "      <td>314</td>\n",
       "    </tr>\n",
       "    <tr>\n",
       "      <th>15146</th>\n",
       "      <td>274</td>\n",
       "    </tr>\n",
       "    <tr>\n",
       "      <th>15203</th>\n",
       "      <td>260</td>\n",
       "    </tr>\n",
       "    <tr>\n",
       "      <th>15205</th>\n",
       "      <td>258</td>\n",
       "    </tr>\n",
       "  </tbody>\n",
       "</table>\n",
       "</div>"
      ],
      "text/plain": [
       "       name\n",
       "zip        \n",
       "15222   514\n",
       "15212   458\n",
       "15213   404\n",
       "15219   347\n",
       "15237   314\n",
       "15146   274\n",
       "15203   260\n",
       "15205   258"
      ]
     },
<<<<<<< HEAD
     "execution_count": 8,
=======
     "execution_count": 10,
>>>>>>> parent of 1e9ceef... finished my description and removed legends from graphs
     "metadata": {},
     "output_type": "execute_result"
    },
    {
     "data": {
      "image/png": "iVBORw0KGgoAAAANSUhEUgAAAXoAAAEgCAYAAAC6tbgBAAAABHNCSVQICAgIfAhkiAAAAAlwSFlzAAALEgAACxIB0t1+/AAAADl0RVh0U29mdHdhcmUAbWF0cGxvdGxpYiB2ZXJzaW9uIDIuMi4zLCBodHRwOi8vbWF0cGxvdGxpYi5vcmcvIxREBQAAE4dJREFUeJzt3XuQnXddx/H3x16AodBrKDWJpAPhNiq0BigDjtoO0otSRlsExJYaJzIUB0VHo+MojqhRR+60GC2SirVUBBvbWlt6UdQBm17shXKJnZQm00vEtuhgLZWvf5xn4XSzmz27++yePb++XzNn9nl+z7PnfDYn+eyT33nOeVJVSJLa9R3jDiBJWloWvSQ1zqKXpMZZ9JLUOItekhpn0UtS4yx6SWqcRS9JjbPoJalxB447AMBRRx1V69atG3cMSZooN954439U1aq59lsRRb9u3Tp27Ngx7hiSNFGS3D3Kfk7dSFLjLHpJapxFL0mNs+glqXEWvSQ1zqKXpMZZ9JLUOItekhpn0UtS41bEO2Mlabp1my/v/T53bTmt9/ucBB7RS1LjRir6JLuS3JbkliQ7urEjklyd5Mvd18O78SR5f5KdSW5NcvxS/gCSpP2bzxH9D1XVi6tqQ7e+GbimqtYD13TrAKcA67vbJuD8vsJKkuZvMVM3pwPbuuVtwGuHxi+sgc8ChyU5ZhGPI0lahFGLvoCrktyYZFM3dnRV3dst3wcc3S2vBu4Z+t7d3djjJNmUZEeSHXv37l1AdEnSKEY96+aVVbUnyTOAq5N8YXhjVVWSms8DV9VWYCvAhg0b5vW9kqTRjXREX1V7uq8PAJ8CXgrcPzUl0319oNt9D7B26NvXdGOSpDGYs+iTPDXJ06aWgR8Gbge2A2d3u50NXNotbwfO6s6+OQF4eGiKR5K0zEaZujka+FSSqf0vqqork9wAXJJkI3A38Lpu/yuAU4GdwNeBc3pPLUka2ZxFX1V3AS+aYfyrwEkzjBdwbi/pJEmL5jtjJalxFr0kNc6il6TGWfSS1DiLXpIaZ9FLUuMseklqnEUvSY2z6CWpcRa9JDXOopekxo36efTS2KzbfHnv97lry2m936e0UnlEL0mNs+glqXEWvSQ1zqKXpMZZ9JLUOItekhpn0UtS4yx6SWqcRS9JjbPoJalxFr0kNc6il6TGWfSS1DiLXpIaZ9FLUuMseklqnEUvSY2z6CWpcRa9JDVu5KJPckCSm5Nc1q0fm+RzSXYm+XiSg7vxJ3XrO7vt65YmuiRpFPM5on87cOfQ+u8D76mq5wAPAhu78Y3Ag934e7r9JEljcuAoOyVZA5wG/A7wjiQBTgTe2O2yDXgncD5wercM8Angg0lSVdVfbGnlWbf58t7vc9eW03q/Tz3xjHpE/17gl4FvdutHAg9V1WPd+m5gdbe8GrgHoNv+cLe/JGkM5iz6JD8CPFBVN/b5wEk2JdmRZMfevXv7vGtJ0pBRjuhfAbwmyS7gYgZTNu8DDksyNfWzBtjTLe8B1gJ02w8Fvjr9Tqtqa1VtqKoNq1atWtQPIUma3ZxFX1W/WlVrqmod8Hrg2qr6SeA64Ixut7OBS7vl7d063fZrnZ+XpPFZzHn0v8LghdmdDObgL+jGLwCO7MbfAWxeXERJ0mKMdNbNlKq6Hri+W74LeOkM+zwCnNlDNklSD3xnrCQ1zqKXpMZZ9JLUOItekhpn0UtS4yx6SWqcRS9JjbPoJalxFr0kNc6il6TGWfSS1DiLXpIaZ9FLUuMseklqnEUvSY2z6CWpcfO68Iikybdu8+W93+euLaf1fp/qj0f0ktQ4i16SGmfRS1LjLHpJapxFL0mNs+glqXEWvSQ1zqKXpMZZ9JLUOItekhpn0UtS4yx6SWqcH2omSQs0KR8Q5xG9JDVuzqJP8uQk/5rk35LckeS3uvFjk3wuyc4kH09ycDf+pG59Z7d93dL+CJKk/RnliP5/gROr6kXAi4GTk5wA/D7wnqp6DvAgsLHbfyPwYDf+nm4/SdKYzFn0NfDf3epB3a2AE4FPdOPbgNd2y6d363TbT0qS3hJLkuZlpDn6JAckuQV4ALga+Hfgoap6rNtlN7C6W14N3APQbX8YOLLP0JKk0Y1U9FX1f1X1YmAN8FLg+Yt94CSbkuxIsmPv3r2LvTtJ0izmddZNVT0EXAe8HDgsydTpmWuAPd3yHmAtQLf9UOCrM9zX1qraUFUbVq1atcD4kqS5jHLWzaokh3XLTwFeBdzJoPDP6HY7G7i0W97erdNtv7aqqs/QkqTRjfKGqWOAbUkOYPCL4ZKquizJ54GLk7wLuBm4oNv/AuDPk+wE/hN4/RLkliSNaM6ir6pbgeNmGL+LwXz99PFHgDN7SSdJWjTfGStJjbPoJalxFr0kNc6il6TGWfSS1DiLXpIaN3EXHun7g/6X4kP+JWkl8Yhekhpn0UtS4yx6SWqcRS9JjZu4F2MnwaRcGV7SE4NF/wTmLyTpicGpG0lqnEUvSY2z6CWpcRa9JDXOopekxln0ktQ4i16SGmfRS1LjLHpJapxFL0mNs+glqXEWvSQ1zqKXpMZZ9JLUOItekhpn0UtS4yx6SWqcRS9JjbPoJalxcxZ9krVJrkvy+SR3JHl7N35EkquTfLn7eng3niTvT7Izya1Jjl/qH0KSNLtRjugfA36xql4InACcm+SFwGbgmqpaD1zTrQOcAqzvbpuA83tPLUka2ZxFX1X3VtVN3fJ/AXcCq4HTgW3dbtuA13bLpwMX1sBngcOSHNN7cknSSOY1R59kHXAc8Dng6Kq6t9t0H3B0t7wauGfo23Z3Y9Pva1OSHUl27N27d56xJUmjGrnokxwC/DXw81X1teFtVVVAzeeBq2prVW2oqg2rVq2az7dKkuZhpKJPchCDkv+LqvpkN3z/1JRM9/WBbnwPsHbo29d0Y5KkMRjlrJsAFwB3VtW7hzZtB87uls8GLh0aP6s7++YE4OGhKR5J0jI7cIR9XgH8FHBbklu6sV8DtgCXJNkI3A28rtt2BXAqsBP4OnBOr4klSfMyZ9FX1T8BmWXzSTPsX8C5i8wlSeqJ74yVpMZZ9JLUOItekhpn0UtS4yx6SWqcRS9JjbPoJalxFr0kNc6il6TGWfSS1DiLXpIaZ9FLUuMseklqnEUvSY2z6CWpcRa9JDXOopekxln0ktQ4i16SGmfRS1LjLHpJapxFL0mNs+glqXEWvSQ1zqKXpMZZ9JLUOItekhpn0UtS4yx6SWqcRS9JjbPoJalxcxZ9ko8keSDJ7UNjRyS5OsmXu6+Hd+NJ8v4kO5PcmuT4pQwvSZrbKEf0HwVOnja2GbimqtYD13TrAKcA67vbJuD8fmJKkhZqzqKvqn8E/nPa8OnAtm55G/DaofELa+CzwGFJjukrrCRp/hY6R390Vd3bLd8HHN0trwbuGdpvdzcmSRqTRb8YW1UF1Hy/L8mmJDuS7Ni7d+9iY0iSZrHQor9/akqm+/pAN74HWDu035pubB9VtbWqNlTVhlWrVi0whiRpLgst+u3A2d3y2cClQ+NndWffnAA8PDTFI0kagwPn2iHJXwI/CByVZDfwm8AW4JIkG4G7gdd1u18BnArsBL4OnLMEmSVJ8zBn0VfVG2bZdNIM+xZw7mJDSZL64ztjJalxFr0kNc6il6TGWfSS1DiLXpIaZ9FLUuMseklqnEUvSY2z6CWpcRa9JDXOopekxln0ktQ4i16SGmfRS1LjLHpJapxFL0mNs+glqXEWvSQ1zqKXpMZZ9JLUOItekhpn0UtS4yx6SWqcRS9JjbPoJalxFr0kNc6il6TGWfSS1DiLXpIaZ9FLUuMseklq3JIUfZKTk3wxyc4km5fiMSRJo+m96JMcAHwIOAV4IfCGJC/s+3EkSaNZiiP6lwI7q+quqnoUuBg4fQkeR5I0gqUo+tXAPUPru7sxSdIYpKr6vcPkDODkqvqZbv2ngJdV1dum7bcJ2NStPg/4Yq9B4CjgP3q+z6Vgzn5NQs5JyAjm7NtS5HxWVa2aa6cDe35QgD3A2qH1Nd3Y41TVVmDrEjw+AEl2VNWGpbr/vpizX5OQcxIygjn7Ns6cSzF1cwOwPsmxSQ4GXg9sX4LHkSSNoPcj+qp6LMnbgL8HDgA+UlV39P04kqTRLMXUDVV1BXDFUtz3PCzZtFDPzNmvScg5CRnBnH0bW87eX4yVJK0sfgSCJDXOopekxln0ktQ4i16SGtds0Sc5ctwZpEmU5PAkTx93DvWniaJPsiXJUd3yhiR3AZ9LcneSHxhzvG9J8swk5yf5UJIjk7wzyW1JLklyzLjzTUly8tDyoUkuSHJrkouSHD3ObMOSrE1ycZLPJPm1JAcNbfubcWYbluT5Sf4uyeVJnp3ko0keSvKvSV4w7nwASb4zyYVJHmbwNv3bk3yl+zt60Fzfv1wm6Dm/KcmvJ3n2uLNAI0UPnFZVU58h8YfAT1TVc4BXAX80vlj7+CjweQYf+nYd8D/AqcBngA+PL9Y+fndo+Y+Ae4EfZfCu5z8eS6KZfQS4Hvg54BjgH4b+J/escYWawVbgPOBjwLXAlcDhwG8DHxxjrmEfY/DmxkOBM4G/Bl7A4L02HxpnsGkm5Tk/HDgMuK77hf4LSb5zbGmqauJvwJ3Agd3yZ6dtu23c+Yay3Dy0/JVp224Zd76hLDfNlmuF5Zye7U3AHcCzh3+Gcd+mPe87Z/uzHnPGf5u2fuPQ8hfGnW8Cn/Phf0Pfz+AX/X0MDvA2LXeeJXln7BicB1yRZAtwZZL3AZ8ETgRuGWuyxxv+H9SF+9k2bs9I8g4gwNOTpLq/saysnAcleXJVPQJQVR9Lch+Dj9946nijPc4BQ8vvnrbt4OUMsh97k7yJQRH9GLALIEnwOV+UqvoM8JkkP8dgluEnWOZ3ya6kJ3DBquoDDKYbfpbBRU5OBDYz+NTMnx5jtOkuTXIIQFX9+tRgkucAXxpbqn39CfA04BBgG4OPVyXJM1lZvzj/FHjZ8EBVfZrB1MPtY0k0sw8NPe/nTQ12z/unx5bq8X4aeA2DwnwZMPWx4kcAvzquUDOYlOd8n3/PVfV/VXVlVZ2z3GH8CARJalwTR/QzSXLtuDPMJMmruzNvtne384fPclkpJiXnbJL8xrgzjGIScq60jN3fzY1J1k0bXzH/e8/A65Kc2S2flOT9Sd6aZNl7t4kj+iS3Th8Cnkt31aqq+t5lDzWDJO9lkOtCBpdYhMGFWc4CvlxVbx9XtmGTknN/knylqr5r3DnmMgk5V1LGJL8HvAK4icGZYO/tpm5JclNVHT/OfFOSnAc8g8FrMF8DnsTguhynAfcv97+hVop+O4M/zHcxOGUxDE5ZfCVAVd09vnTfluRLVfXcGcYDfKmq1o8h1j4mKOfXZtsEPKWqVsTJBpOQcxIyAiS5DTiuBte9OAy4CPhiVf1Ckpur6rgxRwQGOavqe7rz/O8DjqmqR5McyOCMnGU9+Gxi6qaqXsPgvN+twIuqahfwjaq6e6WUfOeRJC+ZYfwlwCPLHWY/JiXnQ8D6qnr6tNvTGJz7v1JMQs5JyAiD06gfA6iqhxgc1T89yV+xcs5gApjK+A3ghqp6tFt/DPjmcodZEb+l+1BVn0pyFfDbSTaysp70KW8Gzk/yNL49JbIWeLjbtlK8mcnIeSGDN8ncP8O2i5Y5y/5MQs5JyAjw70l+oKr+AQZnsgAbk7wL+PHxRnuc+5IcUlX/XVXD7zR/JvDocodpYupmuiQvAl5eVSvp3abf0j3Zq7vVPVV13zjzzGZScuqJI8lTAKrqf2bYtrqq9ix/qtEleSrw1Kp6YFkft8WiH5bk+VX1hXHnGJbkoO6/dMNjR9W3P8ZhRTBnvyYh5yRkBHPOVxNz9HO4atwBpiT5oSS7gXuTXDXt9DBzzpM5+zMJGcGcC9VE0Xfnp850+wCDDxZaKf4AeHVVHcXgheOrk5zQbcv4Yu3DnP2ahJyTkBHMuSCtvBh7DvCLwP/OsO0Ny5xlfw6uqjsAquoTSe4EPpnkV4CVNIdmzn5NQs5JyAjmXJBWiv4G4Paq+pfpG5K8c/njzOobSZ459aJmVd2R5CTgMgafvrdSmLNfk5BzEjKCORekiakb4Axm+bCtqjp2mbPsz2bgcRfuqKrdwA8CW8YRaBbm7Nck5JyEjGDOBWn+rBtJeqJr4og+k3PpO3P2yJz9mYSMYM6FaqLomZxL35mzX+bszyRkBHMuTK2Ay24t9sbkXPrOnOZckTknIaM5F35r5aybSbn0nTn7Zc7+TEJGMOeCrKQ/mMWYlEvfmbNf5uzPJGQEcy5I82fdJDmnqv5s3DnmYs5+mbM/k5ARzLnfx3wCFP2KuTrO/pizX+bszyRkBHPuTxNz9Nn3UoLf2sS0Ny2Mkzn7Zc7+TEJGMOdCNVH0DP7gXg08OG08wD4fizBG5uyXOfszCRnBnAvSStFfBhxSVfu8yJHk+uWPMytz9suc/ZmEjGDOBWl+jl6SnuhaOb1SkjQLi16SGmfRS7NIckWSlXSFMmlBnKOXpMa1ctaNtChJ3gK8pVs9FNgFHAtsYPA29iuBG4HjgTuAs6rq68ufVJo/p24koKo+XFUvBl4C7AbePW2X5wHnVdULgK8Bb13miNKCWfTS470PuLaq/nba+D1V9c/d8seAVy5vLGnhnLqROkneDDwLeNsMm6e/mOWLW5oYHtFLQJLvA34JeFNVfXOGXb4rycu75TcC/7Rs4aRF8oheGngbcARwXRKAHdO2fxE4N8lHgM8D5y9vPGnhPL1SmkOSdcBlVfXdY44iLYhTN5LUOI/oJalxHtFLUuMseklqnEUvSY2z6CWpcRa9JDXOopekxv0/mD81N24zNO4AAAAASUVORK5CYII=\n",
      "text/plain": [
       "<Figure size 432x288 with 1 Axes>"
      ]
     },
     "metadata": {
      "needs_background": "light"
     },
     "output_type": "display_data"
    }
   ],
   "source": [
    "restaurants = pd.read_csv('GeocodedFoodFacilities.csv')\n",
    "restaurants.drop_duplicates(subset = ['facility_name','num'], keep = 'first', inplace = True)\n",
    "\n",
    "restaurants = restaurants.loc[restaurants['description'] != 'Chain Retail/Convenience Store']\n",
    "restaurants = restaurants.loc[restaurants['description'] != 'Retail/Convenience Store']\n",
    "restaurants = restaurants.loc[restaurants['description'] != 'Chain Packaged Food Only']\n",
    "restaurants = restaurants.loc[restaurants['municipal'] != 'Out Of County']\n",
    "\n",
    "restaurants.drop(['id', 'num', 'street', 'city', 'state', 'municipal', 'category_cd', 'description', 'fdo', 'bus_st_date', 'p_code', 'seat_count', 'noroom', 'sq_feet', 'status', 'placard_st', 'x', 'y', 'address'], axis=1, inplace=True)\n",
    "restaurants.rename(columns={'facility_name': 'name'}, inplace = True)\n",
    "\n",
    "rcounts = restaurants.groupby('zip').count()\n",
    "rcounts_temp = rcounts.loc[rcounts['name'] > rcounts['name'].max()/2]\n",
<<<<<<< HEAD
    "rcounts_temp.plot.bar(legend=None)\n",
    "rcounts_temp.sort_values(by=['name'], ascending=False).head(5)"
=======
    "rcounts_temp.plot.bar()\n",
    "rcounts_temp.sort_values(by=['name'], ascending=False)"
>>>>>>> parent of 1e9ceef... finished my description and removed legends from graphs
   ]
  },
  {
   "cell_type": "markdown",
   "metadata": {},
   "source": [
    "Here, 15222 (Downtown and Strip District) has the most restaurants at 514. Second place in this data set goes to 15212 with 458 restaurants in Reserve Township and Millvale. Third place is 15213, which is our very own Oakland with 404 restaurants. "
   ]
  },
  {
   "cell_type": "markdown",
   "metadata": {},
   "source": [
    "## Farmers Market Data"
   ]
  },
  {
   "cell_type": "markdown",
   "metadata": {},
   "source": [
    "Farmers markets make up a much smaller percentage of food facilities in Allegheny County, but this small amount may make or break some zip codes. As such, we followed the same procedure as we did with the convenience stores/supermarkets data set. We dropped irrelevant categories like additional directions and street address, renamed the columns to make them easier to merge with the other two datasets, and, for the sake of short term data analysis, dropped any zip codes that had the lowest amount of farmers markets. "
   ]
  },
  {
   "cell_type": "code",
<<<<<<< HEAD
   "execution_count": 9,
=======
   "execution_count": 11,
>>>>>>> parent of 1e9ceef... finished my description and removed legends from graphs
   "metadata": {},
   "outputs": [
    {
     "data": {
      "text/html": [
       "<div>\n",
       "<style scoped>\n",
       "    .dataframe tbody tr th:only-of-type {\n",
       "        vertical-align: middle;\n",
       "    }\n",
       "\n",
       "    .dataframe tbody tr th {\n",
       "        vertical-align: top;\n",
       "    }\n",
       "\n",
       "    .dataframe thead th {\n",
       "        text-align: right;\n",
       "    }\n",
       "</style>\n",
       "<table border=\"1\" class=\"dataframe\">\n",
       "  <thead>\n",
       "    <tr style=\"text-align: right;\">\n",
       "      <th></th>\n",
       "      <th>name</th>\n",
       "    </tr>\n",
       "    <tr>\n",
       "      <th>zip</th>\n",
       "      <th></th>\n",
       "    </tr>\n",
       "  </thead>\n",
       "  <tbody>\n",
       "    <tr>\n",
       "      <th>15001</th>\n",
       "      <td>4</td>\n",
       "    </tr>\n",
       "    <tr>\n",
       "      <th>15065</th>\n",
       "      <td>4</td>\n",
       "    </tr>\n",
       "    <tr>\n",
       "      <th>15090</th>\n",
       "      <td>4</td>\n",
       "    </tr>\n",
       "    <tr>\n",
       "      <th>15206</th>\n",
       "      <td>4</td>\n",
       "    </tr>\n",
       "    <tr>\n",
       "      <th>15208</th>\n",
       "      <td>4</td>\n",
       "    </tr>\n",
       "    <tr>\n",
       "      <th>15221</th>\n",
       "      <td>4</td>\n",
       "    </tr>\n",
       "    <tr>\n",
       "      <th>15222</th>\n",
       "      <td>4</td>\n",
       "    </tr>\n",
       "    <tr>\n",
       "      <th>15037</th>\n",
       "      <td>3</td>\n",
       "    </tr>\n",
       "    <tr>\n",
       "      <th>15212</th>\n",
       "      <td>3</td>\n",
       "    </tr>\n",
       "    <tr>\n",
       "      <th>15228</th>\n",
       "      <td>3</td>\n",
       "    </tr>\n",
       "    <tr>\n",
       "      <th>15237</th>\n",
       "      <td>3</td>\n",
       "    </tr>\n",
       "  </tbody>\n",
       "</table>\n",
       "</div>"
      ],
      "text/plain": [
       "       name\n",
       "zip        \n",
       "15001     4\n",
       "15065     4\n",
       "15090     4\n",
       "15206     4\n",
       "15208     4\n",
       "15221     4\n",
       "15222     4\n",
       "15037     3\n",
       "15212     3\n",
       "15228     3\n",
       "15237     3"
      ]
     },
<<<<<<< HEAD
     "execution_count": 9,
=======
     "execution_count": 11,
>>>>>>> parent of 1e9ceef... finished my description and removed legends from graphs
     "metadata": {},
     "output_type": "execute_result"
    },
    {
     "data": {
      "image/png": "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\n",
      "text/plain": [
       "<Figure size 432x288 with 1 Axes>"
      ]
     },
     "metadata": {
      "needs_background": "light"
     },
     "output_type": "display_data"
    }
   ],
   "source": [
    "farmersmarkets = pd.read_csv('2019_farmers-markets.csv')\n",
    "farmersmarkets.drop(['Street_Address', 'City', 'State', 'Latitude', 'Longitude', 'Additional_Directions', 'Day_Time', 'Season', 'Affiliations'], axis=1, inplace=True)\n",
    "farmersmarkets.rename(columns={'Name': 'name', 'Zip': 'zip'}, inplace = True)\n",
    "\n",
    "fcounts = farmersmarkets.groupby('zip').count()\n",
    "fcounts_temp = fcounts.loc[fcounts['name'] > fcounts['name'].max()/2]\n",
    "fcounts_temp.plot.bar(legend=None)\n",
    "fcounts_temp.sort_values(by=['name'], ascending=False)"
   ]
  },
  {
   "cell_type": "markdown",
   "metadata": {},
   "source": [
    "We very clearly have a lot of ties going on here. This stems from the fact that, as mentioned above, there aren't that many farmers markets compared to convenience stores, supermarkets, and other restaurants. Nonetheless, we still need to take them into account. We have a seven-way tie for first place with these four farmers markets each. These zipcodes are as follows: \n",
    "* 15001 (Aliquippa) \n",
    "* 15065 (Natrona Heights)\n",
    "* 15090 (Wexford)\n",
    "* 15206 (Penn Hills, Ohara, Sharpsburg)\n",
    "* 15212 (Reserve Township and Millvale)\n",
    "* 15221 (Wilkinsburg, Churchill, Braddock Hills)\n",
    "* 15222 (Downtown, Strip District)\n",
    "\n"
   ]
  },
  {
   "cell_type": "markdown",
   "metadata": {},
   "source": [
    "## Combined Data"
   ]
  },
  {
   "cell_type": "markdown",
   "metadata": {},
   "source": [
    "Now, for the moment we've all been waiting for: the merging of the data! First, we create a new dataset that encompases the total amount of convenience stores/supermarkets, restaurants, and farmers markets. Since all the datasets have been cleaned so that they all have the same columns, we can simply use concatination with the + operand to combine these datasets. We made the bar graph a bit bigger so it's easier to see."
   ]
  },
  {
   "cell_type": "code",
<<<<<<< HEAD
   "execution_count": 10,
=======
   "execution_count": 15,
>>>>>>> parent of 1e9ceef... finished my description and removed legends from graphs
   "metadata": {},
   "outputs": [
    {
     "data": {
      "text/html": [
       "<div>\n",
       "<style scoped>\n",
       "    .dataframe tbody tr th:only-of-type {\n",
       "        vertical-align: middle;\n",
       "    }\n",
       "\n",
       "    .dataframe tbody tr th {\n",
       "        vertical-align: top;\n",
       "    }\n",
       "\n",
       "    .dataframe thead th {\n",
       "        text-align: right;\n",
       "    }\n",
       "</style>\n",
       "<table border=\"1\" class=\"dataframe\">\n",
       "  <thead>\n",
       "    <tr style=\"text-align: right;\">\n",
       "      <th></th>\n",
       "      <th>facilities</th>\n",
       "    </tr>\n",
       "    <tr>\n",
       "      <th>zip</th>\n",
       "      <th></th>\n",
       "    </tr>\n",
       "  </thead>\n",
       "  <tbody>\n",
       "    <tr>\n",
       "      <th>15222.0</th>\n",
       "      <td>539.0</td>\n",
       "    </tr>\n",
       "    <tr>\n",
       "      <th>15212.0</th>\n",
       "      <td>478.0</td>\n",
       "    </tr>\n",
       "    <tr>\n",
       "      <th>15213.0</th>\n",
       "      <td>422.0</td>\n",
       "    </tr>\n",
       "    <tr>\n",
       "      <th>15237.0</th>\n",
       "      <td>345.0</td>\n",
       "    </tr>\n",
       "    <tr>\n",
       "      <th>15146.0</th>\n",
       "      <td>297.0</td>\n",
       "    </tr>\n",
       "    <tr>\n",
       "      <th>15206.0</th>\n",
       "      <td>270.0</td>\n",
       "    </tr>\n",
       "    <tr>\n",
       "      <th>15203.0</th>\n",
       "      <td>269.0</td>\n",
       "    </tr>\n",
       "    <tr>\n",
       "      <th>15108.0</th>\n",
       "      <td>269.0</td>\n",
       "    </tr>\n",
       "    <tr>\n",
       "      <th>15217.0</th>\n",
       "      <td>216.0</td>\n",
       "    </tr>\n",
       "    <tr>\n",
       "      <th>15224.0</th>\n",
       "      <td>207.0</td>\n",
       "    </tr>\n",
       "    <tr>\n",
       "      <th>15235.0</th>\n",
       "      <td>201.0</td>\n",
       "    </tr>\n",
       "    <tr>\n",
       "      <th>15201.0</th>\n",
       "      <td>200.0</td>\n",
       "    </tr>\n",
       "    <tr>\n",
       "      <th>15120.0</th>\n",
       "      <td>198.0</td>\n",
       "    </tr>\n",
       "    <tr>\n",
       "      <th>15221.0</th>\n",
       "      <td>196.0</td>\n",
       "    </tr>\n",
       "    <tr>\n",
       "      <th>15136.0</th>\n",
       "      <td>195.0</td>\n",
       "    </tr>\n",
       "    <tr>\n",
       "      <th>15122.0</th>\n",
       "      <td>181.0</td>\n",
       "    </tr>\n",
       "    <tr>\n",
       "      <th>15210.0</th>\n",
       "      <td>180.0</td>\n",
       "    </tr>\n",
       "    <tr>\n",
       "      <th>15216.0</th>\n",
       "      <td>174.0</td>\n",
       "    </tr>\n",
       "    <tr>\n",
       "      <th>15238.0</th>\n",
       "      <td>161.0</td>\n",
       "    </tr>\n",
       "    <tr>\n",
       "      <th>15090.0</th>\n",
       "      <td>149.0</td>\n",
       "    </tr>\n",
       "    <tr>\n",
       "      <th>15102.0</th>\n",
       "      <td>146.0</td>\n",
       "    </tr>\n",
       "    <tr>\n",
       "      <th>15044.0</th>\n",
       "      <td>138.0</td>\n",
       "    </tr>\n",
       "    <tr>\n",
       "      <th>15215.0</th>\n",
       "      <td>138.0</td>\n",
       "    </tr>\n",
       "    <tr>\n",
       "      <th>15202.0</th>\n",
       "      <td>129.0</td>\n",
       "    </tr>\n",
       "    <tr>\n",
       "      <th>15084.0</th>\n",
       "      <td>123.0</td>\n",
       "    </tr>\n",
       "    <tr>\n",
       "      <th>15147.0</th>\n",
       "      <td>115.0</td>\n",
       "    </tr>\n",
       "    <tr>\n",
       "      <th>15220.0</th>\n",
       "      <td>112.0</td>\n",
       "    </tr>\n",
       "    <tr>\n",
       "      <th>15241.0</th>\n",
       "      <td>109.0</td>\n",
       "    </tr>\n",
       "    <tr>\n",
       "      <th>15228.0</th>\n",
       "      <td>106.0</td>\n",
       "    </tr>\n",
       "    <tr>\n",
       "      <th>15239.0</th>\n",
       "      <td>103.0</td>\n",
       "    </tr>\n",
       "    <tr>\n",
       "      <th>15218.0</th>\n",
       "      <td>102.0</td>\n",
       "    </tr>\n",
       "    <tr>\n",
       "      <th>15025.0</th>\n",
       "      <td>98.0</td>\n",
       "    </tr>\n",
       "    <tr>\n",
       "      <th>15143.0</th>\n",
       "      <td>96.0</td>\n",
       "    </tr>\n",
       "    <tr>\n",
       "      <th>15208.0</th>\n",
       "      <td>89.0</td>\n",
       "    </tr>\n",
       "    <tr>\n",
       "      <th>15209.0</th>\n",
       "      <td>85.0</td>\n",
       "    </tr>\n",
       "    <tr>\n",
       "      <th>15037.0</th>\n",
       "      <td>85.0</td>\n",
       "    </tr>\n",
       "    <tr>\n",
       "      <th>15065.0</th>\n",
       "      <td>83.0</td>\n",
       "    </tr>\n",
       "    <tr>\n",
       "      <th>15104.0</th>\n",
       "      <td>75.0</td>\n",
       "    </tr>\n",
       "    <tr>\n",
       "      <th>15223.0</th>\n",
       "      <td>68.0</td>\n",
       "    </tr>\n",
       "    <tr>\n",
       "      <th>15110.0</th>\n",
       "      <td>61.0</td>\n",
       "    </tr>\n",
       "    <tr>\n",
       "      <th>15071.0</th>\n",
       "      <td>61.0</td>\n",
       "    </tr>\n",
       "    <tr>\n",
       "      <th>15045.0</th>\n",
       "      <td>33.0</td>\n",
       "    </tr>\n",
       "    <tr>\n",
       "      <th>15204.0</th>\n",
       "      <td>24.0</td>\n",
       "    </tr>\n",
       "    <tr>\n",
       "      <th>15026.0</th>\n",
       "      <td>13.0</td>\n",
       "    </tr>\n",
       "  </tbody>\n",
       "</table>\n",
       "</div>"
      ],
      "text/plain": [
       "         facilities\n",
       "zip                \n",
       "15222.0       539.0\n",
       "15212.0       478.0\n",
       "15213.0       422.0\n",
       "15237.0       345.0\n",
       "15146.0       297.0\n",
       "15206.0       270.0\n",
       "15203.0       269.0\n",
       "15108.0       269.0\n",
       "15217.0       216.0\n",
       "15224.0       207.0\n",
       "15235.0       201.0\n",
       "15201.0       200.0\n",
       "15120.0       198.0\n",
       "15221.0       196.0\n",
       "15136.0       195.0\n",
       "15122.0       181.0\n",
       "15210.0       180.0\n",
       "15216.0       174.0\n",
       "15238.0       161.0\n",
       "15090.0       149.0\n",
       "15102.0       146.0\n",
       "15044.0       138.0\n",
       "15215.0       138.0\n",
       "15202.0       129.0\n",
       "15084.0       123.0\n",
       "15147.0       115.0\n",
       "15220.0       112.0\n",
       "15241.0       109.0\n",
       "15228.0       106.0\n",
       "15239.0       103.0\n",
       "15218.0       102.0\n",
       "15025.0        98.0\n",
       "15143.0        96.0\n",
       "15208.0        89.0\n",
       "15209.0        85.0\n",
       "15037.0        85.0\n",
       "15065.0        83.0\n",
       "15104.0        75.0\n",
       "15223.0        68.0\n",
       "15110.0        61.0\n",
       "15071.0        61.0\n",
       "15045.0        33.0\n",
       "15204.0        24.0\n",
       "15026.0        13.0"
      ]
     },
<<<<<<< HEAD
     "execution_count": 10,
=======
     "execution_count": 15,
>>>>>>> parent of 1e9ceef... finished my description and removed legends from graphs
     "metadata": {},
     "output_type": "execute_result"
    },
    {
     "data": {
      "image/png": "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\n",
      "text/plain": [
       "<Figure size 720x720 with 1 Axes>"
      ]
     },
     "metadata": {
      "needs_background": "light"
     },
     "output_type": "display_data"
    }
   ],
   "source": [
    "total_counts = pd.DataFrame({'facilities': []})\n",
    "total_counts['facilities'] = ccounts['name'] + rcounts['name'] + fcounts['name']\n",
    "total_counts = total_counts.loc[total_counts['facilities'] > 0] # should we maybe do the /2 thing here? graph is just a bit hard to read and i don't think we need all of these zipcodes \n",
    "\n",
    "total_counts.plot.bar(figsize=(10,10))\n",
    "total_counts.sort_values(by=['facilities'], ascending=False)"
   ]
  },
  {
   "cell_type": "markdown",
   "metadata": {},
   "source": [
    "Clearly, 15222 (Downtown and Strip District) has the largest amount of food facilities at 539, so by our metric, that makes Downtown and the Strip District the best places in Allegheny County! Following behind at 478 facilities is 15212 (Reserve Township and Millvale), and our bronze medal goes to 15213 (Oakland) with 422 facilities. All of these zip codes/neighborhoods are technically still Pittsburgh, so it is no surprise that these neighborhoods come out on top. Granted, these metrics don't take population into account -- restaurants per capita was out of the question because we couldn't find a data set that had what we needed, but in any case, more is always better, especially with food!"
   ]
  },
  {
   "cell_type": "markdown",
   "metadata": {},
   "source": [
    "## Conclusion"
   ]
  },
  {
   "cell_type": "markdown",
   "metadata": {},
   "source": [
    "(\"Reflect on how the data driven determination of “best neighborhood” is the same or different from your personal favorite neighborhood. Each member of the group should write their own response to this\")"
   ]
  },
  {
   "cell_type": "markdown",
   "metadata": {},
   "source": [
    "**Lindsey**:\n",
    "\n",
    "The data does differ from my actual favorite neighborhood/zip code, but that's mostly because of bias towards my hometown. I hail from 15025 (Jefferson Hills/Clairton) and am most familiar with the restaurants from around there. It makes sense that Downtown/Strip District won, though; it's more population-dense, for one thing, and there are a lot of good restaurants there. (add more when it's not 8am)"
   ]
  },
  {
   "cell_type": "code",
   "execution_count": null,
   "metadata": {},
   "outputs": [],
   "source": []
  }
 ],
 "metadata": {
  "kernelspec": {
   "display_name": "Python 3.7",
   "language": "python",
   "name": "python3"
  },
  "language_info": {
   "codemirror_mode": {
    "name": "ipython",
    "version": 3
   },
   "file_extension": ".py",
   "mimetype": "text/x-python",
   "name": "python",
   "nbconvert_exporter": "python",
   "pygments_lexer": "ipython3",
   "version": "3.7.0"
  }
 },
 "nbformat": 4,
 "nbformat_minor": 4
}
